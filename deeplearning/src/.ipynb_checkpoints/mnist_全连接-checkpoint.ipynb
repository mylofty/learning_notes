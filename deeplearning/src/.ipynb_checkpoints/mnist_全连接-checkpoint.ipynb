{
 "cells": [
  {
   "cell_type": "code",
   "execution_count": 1,
   "metadata": {},
   "outputs": [],
   "source": [
    "import tensorflow as tf\n",
    "from tensorflow.examples.tutorials.mnist import input_data"
   ]
  },
  {
   "cell_type": "code",
   "execution_count": 2,
   "metadata": {},
   "outputs": [
    {
     "name": "stdout",
     "output_type": "stream",
     "text": [
      "WARNING:tensorflow:From <ipython-input-2-8193790e20bd>:3: read_data_sets (from tensorflow.contrib.learn.python.learn.datasets.mnist) is deprecated and will be removed in a future version.\n",
      "Instructions for updating:\n",
      "Please use alternatives such as official/mnist/dataset.py from tensorflow/models.\n",
      "WARNING:tensorflow:From /usr/lib/python3.7/site-packages/tensorflow/contrib/learn/python/learn/datasets/mnist.py:260: maybe_download (from tensorflow.contrib.learn.python.learn.datasets.base) is deprecated and will be removed in a future version.\n",
      "Instructions for updating:\n",
      "Please write your own downloading logic.\n",
      "WARNING:tensorflow:From /usr/lib/python3.7/site-packages/tensorflow/contrib/learn/python/learn/datasets/mnist.py:262: extract_images (from tensorflow.contrib.learn.python.learn.datasets.mnist) is deprecated and will be removed in a future version.\n",
      "Instructions for updating:\n",
      "Please use tf.data to implement this functionality.\n",
      "Extracting mnist_data/train-images-idx3-ubyte.gz\n",
      "WARNING:tensorflow:From /usr/lib/python3.7/site-packages/tensorflow/contrib/learn/python/learn/datasets/mnist.py:267: extract_labels (from tensorflow.contrib.learn.python.learn.datasets.mnist) is deprecated and will be removed in a future version.\n",
      "Instructions for updating:\n",
      "Please use tf.data to implement this functionality.\n",
      "Extracting mnist_data/train-labels-idx1-ubyte.gz\n",
      "WARNING:tensorflow:From /usr/lib/python3.7/site-packages/tensorflow/contrib/learn/python/learn/datasets/mnist.py:110: dense_to_one_hot (from tensorflow.contrib.learn.python.learn.datasets.mnist) is deprecated and will be removed in a future version.\n",
      "Instructions for updating:\n",
      "Please use tf.one_hot on tensors.\n",
      "Extracting mnist_data/t10k-images-idx3-ubyte.gz\n",
      "Extracting mnist_data/t10k-labels-idx1-ubyte.gz\n",
      "WARNING:tensorflow:From /usr/lib/python3.7/site-packages/tensorflow/contrib/learn/python/learn/datasets/mnist.py:290: DataSet.__init__ (from tensorflow.contrib.learn.python.learn.datasets.mnist) is deprecated and will be removed in a future version.\n",
      "Instructions for updating:\n",
      "Please use alternatives such as official/mnist/dataset.py from tensorflow/models.\n",
      "type of 'mnist is <class 'tensorflow.contrib.learn.python.learn.datasets.base.Datasets'>'\n",
      "number of train data is 55000\n",
      "number of test data is 10000\n",
      "(55000, 784)\n"
     ]
    }
   ],
   "source": [
    "# 加载数据\n",
    "#mnist = input_data.read_data_sets('mnist_data/', fake_data = True)\n",
    "mnist = input_data.read_data_sets(\"mnist_data/\", one_hot=True)\n",
    "\n",
    "print(\"type of 'mnist is %s'\" % (type(mnist)))\n",
    "print(\"number of train data is %d\" % mnist.train.num_examples)\n",
    "print(\"number of test data is %d\" % mnist.test.num_examples)\n",
    "print(mnist.train.images.shape)"
   ]
  },
  {
   "cell_type": "code",
   "execution_count": 3,
   "metadata": {},
   "outputs": [],
   "source": [
    "# 定义输入输出\n",
    "input_image = tf.placeholder(dtype=tf.float32, shape=[None, 784], name='input_image')\n",
    "input_label = tf.placeholder(dtype=tf.float32, shape=[None, 10], name='input_label')"
   ]
  },
  {
   "cell_type": "code",
   "execution_count": 4,
   "metadata": {},
   "outputs": [],
   "source": [
    "# 定义网络\n",
    "hidden1_units = 10\n",
    "hidden2_units = 15\n",
    "def dnn_model(input, num_classes=10, is_training=True, dropout_keep_prob=0.5, scope='dnn_model'):\n",
    "    _, dim = input.shape\n",
    "    print('input shape is ', dim)\n",
    "    # hidden 1\n",
    "    with tf.name_scope('hidden_L1'):\n",
    "        weight_L1 = tf.Variable(tf.truncated_normal([784, hidden1_units]), name='weight_L1')\n",
    "        bias_L1 = tf.Variable(tf.zeros([1, hidden1_units]), name='bias_L1')\n",
    "        operator1 = tf.matmul(input_image, weight_L1) + bias_L1\n",
    "        ## activation function\n",
    "        hidden1_output = tf.nn.relu(operator1)\n",
    "    \n",
    "    # hidden2\n",
    "    with tf.name_scope('hidden_L2'):\n",
    "        weight_L2 = tf.Variable(tf.truncated_normal([hidden1_units, hidden2_units]), name='weight_L2')\n",
    "        bias_L2 = tf.Variable(tf.zeros([1, hidden2_units]), name='bias_L2')\n",
    "        operator2 = tf.matmul(hidden1_output, weight_L2) + bias_L2\n",
    "        ## activation function\n",
    "        hidden2_output = tf.nn.relu(operator2)\n",
    "            \n",
    "    # fully connected , softmax\n",
    "    with tf.name_scope('logits'):\n",
    "        weight_L3 = tf.Variable(tf.truncated_normal([hidden2_units, num_classes]), name='weight_L3')\n",
    "        bias_L3 = tf.Variable(tf.zeros([1, num_classes]), name='bias_L3')\n",
    "        operator_L3 = tf.matmul(hidden2_output, weight_L3) + bias_L3\n",
    "        ## dropout \n",
    "        logits = tf.nn.dropout(operator_L3, keep_prob=dropout_keep_prob)\n",
    "        return logits"
   ]
  },
  {
   "cell_type": "code",
   "execution_count": 5,
   "metadata": {},
   "outputs": [],
   "source": [
    "# 定义损失函数\n",
    "def loss_function(logits, labels):\n",
    "    predict = tf.nn.softmax(logits)\n",
    "    # 交叉墒\n",
    "    loss = tf.reduce_mean(-tf.reduce_sum(labels * tf.log(logits), axis=1))\n",
    "    return loss\n",
    "    \n",
    "def loss_function2(logits, labels):\n",
    "    loss = tf.nn.softmax_cross_entropy_with_logits(logits, labels)\n",
    "    return loss"
   ]
  },
  {
   "cell_type": "code",
   "execution_count": 6,
   "metadata": {},
   "outputs": [],
   "source": [
    "# 定义train函数\n",
    "def train(loss, learning_rate):\n",
    "    global_step = tf.Variable(0, name='global_step', trainable=False)\n",
    "    optimize = tf.train.GradientDescentOptimizer(learning_rate)\n",
    "    train_op = optimize.minimize(loss,global_step=global_step)\n",
    "    return train_op"
   ]
  },
  {
   "cell_type": "code",
   "execution_count": 7,
   "metadata": {},
   "outputs": [
    {
     "name": "stdout",
     "output_type": "stream",
     "text": [
      "input shape is  784\n",
      "WARNING:tensorflow:From /usr/lib/python3.7/site-packages/tensorflow/python/framework/op_def_library.py:263: colocate_with (from tensorflow.python.framework.ops) is deprecated and will be removed in a future version.\n",
      "Instructions for updating:\n",
      "Colocations handled automatically by placer.\n",
      "WARNING:tensorflow:From <ipython-input-4-1abbd95744d0>:29: calling dropout (from tensorflow.python.ops.nn_ops) with keep_prob is deprecated and will be removed in a future version.\n",
      "Instructions for updating:\n",
      "Please use `rate` instead of `keep_prob`. Rate should be set to `rate = 1 - keep_prob`.\n",
      "WARNING:tensorflow:From /usr/lib/python3.7/site-packages/tensorflow/python/ops/math_ops.py:3066: to_int32 (from tensorflow.python.ops.math_ops) is deprecated and will be removed in a future version.\n",
      "Instructions for updating:\n",
      "Use tf.cast instead.\n",
      "WARNING:tensorflow:From /usr/lib/python3.7/site-packages/tensorflow/python/util/tf_should_use.py:193: initialize_local_variables (from tensorflow.python.ops.variables) is deprecated and will be removed after 2017-03-02.\n",
      "Instructions for updating:\n",
      "Use `tf.local_variables_initializer` instead.\n"
     ]
    }
   ],
   "source": [
    "# 模型运行\n",
    "logits = dnn_model(input_image)\n",
    "loss = loss_function(logits, input_label)\n",
    "train_op = train(loss, 0.2)\n",
    "init_global = tf.global_variables_initializer()\n",
    "init_local = tf.local_variables_initializer()\n",
    "with tf.Session() as sess:\n",
    "    sess.run(init_global)\n",
    "    sess.run(init_local)\n",
    "    for _ in range(1000):\n",
    "        image_batch, label_batch  = mnist.train.next_batch(70)\n",
    "        sess.run(train_op, feed_dict={\n",
    "            input_image: image_batch,\n",
    "            input_label: label_batch\n",
    "        })\n",
    "        \n",
    "        "
   ]
  },
  {
   "cell_type": "code",
   "execution_count": null,
   "metadata": {},
   "outputs": [],
   "source": []
  },
  {
   "cell_type": "code",
   "execution_count": null,
   "metadata": {},
   "outputs": [],
   "source": []
  }
 ],
 "metadata": {
  "kernelspec": {
   "display_name": "Python 3",
   "language": "python",
   "name": "python3"
  },
  "language_info": {
   "codemirror_mode": {
    "name": "ipython",
    "version": 3
   },
   "file_extension": ".py",
   "mimetype": "text/x-python",
   "name": "python",
   "nbconvert_exporter": "python",
   "pygments_lexer": "ipython3",
   "version": "3.7.3"
  }
 },
 "nbformat": 4,
 "nbformat_minor": 2
}
